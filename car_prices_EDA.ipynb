{
  "nbformat": 4,
  "nbformat_minor": 0,
  "metadata": {
    "colab": {
      "name": "car_prices_EDA.ipynb",
      "provenance": []
    },
    "kernelspec": {
      "display_name": "Python 3",
      "name": "python3"
    }
  },
  "cells": [
    {
      "cell_type": "code",
      "metadata": {
        "id": "eFDBhL7M6Ic-"
      },
      "source": [
        "import numpy as np\n",
        "import pandas as pd\n",
        "import matplotlib.pyplot as plt\n",
        "import seaborn as sns\n",
        "sns.set_theme()\n",
        "from scipy.stats import chi2_contingency\n"
      ],
      "execution_count": 2,
      "outputs": []
    },
    {
      "cell_type": "code",
      "metadata": {
        "id": "ksWXczi360SF"
      },
      "source": [
        "filepath='https://github.com/prabhupanda/ML-code/blob/master/cars_price.csv?raw=true'\n",
        "prices=pd.read_csv(filepath)"
      ],
      "execution_count": 3,
      "outputs": []
    },
    {
      "cell_type": "code",
      "metadata": {
        "id": "np_2gCyy7GPj",
        "outputId": "43e94611-f655-45ed-931c-98aacfaf908e",
        "colab": {
          "base_uri": "https://localhost:8080/",
          "height": 206
        }
      },
      "source": [
        "prices.head()"
      ],
      "execution_count": 4,
      "outputs": [
        {
          "output_type": "execute_result",
          "data": {
            "text/html": [
              "<div>\n",
              "<style scoped>\n",
              "    .dataframe tbody tr th:only-of-type {\n",
              "        vertical-align: middle;\n",
              "    }\n",
              "\n",
              "    .dataframe tbody tr th {\n",
              "        vertical-align: top;\n",
              "    }\n",
              "\n",
              "    .dataframe thead th {\n",
              "        text-align: right;\n",
              "    }\n",
              "</style>\n",
              "<table border=\"1\" class=\"dataframe\">\n",
              "  <thead>\n",
              "    <tr style=\"text-align: right;\">\n",
              "      <th></th>\n",
              "      <th>Unnamed: 0</th>\n",
              "      <th>make</th>\n",
              "      <th>model</th>\n",
              "      <th>priceUSD</th>\n",
              "      <th>year</th>\n",
              "      <th>condition</th>\n",
              "      <th>mileage(kilometers)</th>\n",
              "      <th>fuel_type</th>\n",
              "      <th>volume(cm3)</th>\n",
              "      <th>color</th>\n",
              "      <th>transmission</th>\n",
              "      <th>drive_unit</th>\n",
              "      <th>segment</th>\n",
              "    </tr>\n",
              "  </thead>\n",
              "  <tbody>\n",
              "    <tr>\n",
              "      <th>0</th>\n",
              "      <td>0</td>\n",
              "      <td>honda</td>\n",
              "      <td>accord</td>\n",
              "      <td>565</td>\n",
              "      <td>1993</td>\n",
              "      <td>with mileage</td>\n",
              "      <td>960015.0</td>\n",
              "      <td>petrol</td>\n",
              "      <td>2000.0</td>\n",
              "      <td>black</td>\n",
              "      <td>mechanics</td>\n",
              "      <td>front-wheel drive</td>\n",
              "      <td>D</td>\n",
              "    </tr>\n",
              "    <tr>\n",
              "      <th>1</th>\n",
              "      <td>1</td>\n",
              "      <td>ford</td>\n",
              "      <td>fusion</td>\n",
              "      <td>5550</td>\n",
              "      <td>2008</td>\n",
              "      <td>with mileage</td>\n",
              "      <td>172000.0</td>\n",
              "      <td>diesel</td>\n",
              "      <td>1400.0</td>\n",
              "      <td>silver</td>\n",
              "      <td>mechanics</td>\n",
              "      <td>front-wheel drive</td>\n",
              "      <td>M</td>\n",
              "    </tr>\n",
              "    <tr>\n",
              "      <th>2</th>\n",
              "      <td>2</td>\n",
              "      <td>nissan</td>\n",
              "      <td>teana</td>\n",
              "      <td>8300</td>\n",
              "      <td>2008</td>\n",
              "      <td>with mileage</td>\n",
              "      <td>223000.0</td>\n",
              "      <td>petrol</td>\n",
              "      <td>2500.0</td>\n",
              "      <td>purple</td>\n",
              "      <td>auto</td>\n",
              "      <td>front-wheel drive</td>\n",
              "      <td>D</td>\n",
              "    </tr>\n",
              "    <tr>\n",
              "      <th>3</th>\n",
              "      <td>3</td>\n",
              "      <td>volkswagen</td>\n",
              "      <td>fox</td>\n",
              "      <td>3300</td>\n",
              "      <td>2005</td>\n",
              "      <td>with mileage</td>\n",
              "      <td>140000.0</td>\n",
              "      <td>petrol</td>\n",
              "      <td>1200.0</td>\n",
              "      <td>blue</td>\n",
              "      <td>mechanics</td>\n",
              "      <td>front-wheel drive</td>\n",
              "      <td>A</td>\n",
              "    </tr>\n",
              "    <tr>\n",
              "      <th>4</th>\n",
              "      <td>4</td>\n",
              "      <td>nissan</td>\n",
              "      <td>primera</td>\n",
              "      <td>2450</td>\n",
              "      <td>2002</td>\n",
              "      <td>with damage</td>\n",
              "      <td>413000.0</td>\n",
              "      <td>diesel</td>\n",
              "      <td>2200.0</td>\n",
              "      <td>burgundy</td>\n",
              "      <td>mechanics</td>\n",
              "      <td>front-wheel drive</td>\n",
              "      <td>D</td>\n",
              "    </tr>\n",
              "  </tbody>\n",
              "</table>\n",
              "</div>"
            ],
            "text/plain": [
              "   Unnamed: 0        make    model  ...  transmission         drive_unit segment\n",
              "0           0       honda   accord  ...     mechanics  front-wheel drive       D\n",
              "1           1        ford   fusion  ...     mechanics  front-wheel drive       M\n",
              "2           2      nissan    teana  ...          auto  front-wheel drive       D\n",
              "3           3  volkswagen      fox  ...     mechanics  front-wheel drive       A\n",
              "4           4      nissan  primera  ...     mechanics  front-wheel drive       D\n",
              "\n",
              "[5 rows x 13 columns]"
            ]
          },
          "metadata": {
            "tags": []
          },
          "execution_count": 4
        }
      ]
    },
    {
      "cell_type": "markdown",
      "metadata": {
        "id": "gB-73wp_8M2_"
      },
      "source": [
        "Number of Missing entries in the dataframe"
      ]
    },
    {
      "cell_type": "code",
      "metadata": {
        "id": "mBsjM91p7H7D",
        "outputId": "2df2bf44-bb41-4952-c0b7-affb2801e602",
        "colab": {
          "base_uri": "https://localhost:8080/"
        }
      },
      "source": [
        "prices.isnull().sum(axis=0)"
      ],
      "execution_count": 5,
      "outputs": [
        {
          "output_type": "execute_result",
          "data": {
            "text/plain": [
              "Unnamed: 0                0\n",
              "make                      0\n",
              "model                     0\n",
              "priceUSD                  0\n",
              "year                      0\n",
              "condition                 0\n",
              "mileage(kilometers)       0\n",
              "fuel_type                 0\n",
              "volume(cm3)              30\n",
              "color                     0\n",
              "transmission              0\n",
              "drive_unit             1345\n",
              "segment                3755\n",
              "dtype: int64"
            ]
          },
          "metadata": {
            "tags": []
          },
          "execution_count": 5
        }
      ]
    },
    {
      "cell_type": "code",
      "metadata": {
        "id": "nOHeEnZPUqdb",
        "outputId": "cc985629-85aa-405f-fe0e-4aba529a8866",
        "colab": {
          "base_uri": "https://localhost:8080/",
          "height": 268
        }
      },
      "source": [
        "plt.hist(prices['year'],bins=20)\n",
        "plt.show()"
      ],
      "execution_count": 6,
      "outputs": [
        {
          "output_type": "display_data",
          "data": {
            "image/png": "[encoded data removed]",
            "text/plain": [
              "<Figure size 432x288 with 1 Axes>"
            ]
          },
          "metadata": {
            "tags": []
          }
        }
      ]
    },
    {
      "cell_type": "markdown",
      "metadata": {
        "id": "NnbgP1xp8mZG"
      },
      "source": [
        "top 20 Number of Brands of Cars"
      ]
    },
    {
      "cell_type": "code",
      "metadata": {
        "id": "TFZtDj5H8EyL",
        "outputId": "21da4b05-e48a-4685-c42f-0baca5262114",
        "colab": {
          "base_uri": "https://localhost:8080/"
        }
      },
      "source": [
        "prices['model'].value_counts()[0:20]"
      ],
      "execution_count": 7,
      "outputs": [
        {
          "output_type": "execute_result",
          "data": {
            "text/plain": [
              "passat         1532\n",
              "5-seriya       1003\n",
              "a6              896\n",
              "golf            783\n",
              "astra           698\n",
              "e-klass         694\n",
              "3-seriya        591\n",
              "vectra          568\n",
              "laguna          549\n",
              "mondeo          542\n",
              "a4              495\n",
              "scenic          455\n",
              "zafira          427\n",
              "7-seriya        417\n",
              "100             406\n",
              "transporter     402\n",
              "megane          394\n",
              "x5              387\n",
              "octavia         361\n",
              "c-klass         359\n",
              "Name: model, dtype: int64"
            ]
          },
          "metadata": {
            "tags": []
          },
          "execution_count": 7
        }
      ]
    },
    {
      "cell_type": "code",
      "metadata": {
        "id": "7SyWc_7MVUZd",
        "outputId": "4b14b0db-da88-4da3-de75-9271bbfa9213",
        "colab": {
          "base_uri": "https://localhost:8080/"
        }
      },
      "source": [
        "print(\"No. of unique drive_units {}\".format(prices['drive_unit'].nunique()))\n",
        "prices['drive_unit'].value_counts(dropna=False)\n",
        "#with the highly skewed distribution towards the \"four wheel drive\" category, imputation maybe done with most ocuuring category"
      ],
      "execution_count": 8,
      "outputs": [
        {
          "output_type": "stream",
          "text": [
            "No. of unique drive_units 4\n"
          ],
          "name": "stdout"
        },
        {
          "output_type": "execute_result",
          "data": {
            "text/plain": [
              "front-wheel drive             27074\n",
              "rear drive                     4809\n",
              "all-wheel drive                4176\n",
              "part-time four-wheel drive     2596\n",
              "NaN                            1345\n",
              "Name: drive_unit, dtype: int64"
            ]
          },
          "metadata": {
            "tags": []
          },
          "execution_count": 8
        }
      ]
    },
    {
      "cell_type": "code",
      "metadata": {
        "id": "QQIVT58W8bZu",
        "outputId": "0feef690-dfc2-41da-8e68-747ea14e36a5",
        "colab": {
          "base_uri": "https://localhost:8080/"
        }
      },
      "source": [
        "print('No. of Segments : {}'.format(prices['segment'].nunique()))\n",
        "prices['segment'].value_counts()"
      ],
      "execution_count": 9,
      "outputs": [
        {
          "output_type": "stream",
          "text": [
            "No. of Segments : 9\n"
          ],
          "name": "stdout"
        },
        {
          "output_type": "execute_result",
          "data": {
            "text/plain": [
              "D    8985\n",
              "C    7509\n",
              "J    6161\n",
              "M    4532\n",
              "E    4391\n",
              "B    3128\n",
              "F     658\n",
              "S     549\n",
              "A     332\n",
              "Name: segment, dtype: int64"
            ]
          },
          "metadata": {
            "tags": []
          },
          "execution_count": 9
        }
      ]
    },
    {
      "cell_type": "markdown",
      "metadata": {
        "id": "nLEwijwJXPu-"
      },
      "source": [
        "*Given the high number of missing values in the \"segment\" and distribution of categories, Imputation will be done by predictive model.*"
      ]
    },
    {
      "cell_type": "code",
      "metadata": {
        "id": "m37MziRE9M5y",
        "outputId": "6172af57-5d15-49af-d30a-208d01ac6522",
        "colab": {
          "base_uri": "https://localhost:8080/",
          "height": 303
        }
      },
      "source": [
        "sns.histplot(prices['volume(cm3)'],bins=25,stat='count')"
      ],
      "execution_count": 10,
      "outputs": [
        {
          "output_type": "execute_result",
          "data": {
            "text/plain": [
              "<matplotlib.axes._subplots.AxesSubplot at 0x7ff8205b0748>"
            ]
          },
          "metadata": {
            "tags": []
          },
          "execution_count": 10
        },
        {
          "output_type": "display_data",
          "data": {
            "image/png": "[encoded data removed]",
            "text/plain": [
              "<Figure size 432x288 with 1 Axes>"
            ]
          },
          "metadata": {
            "tags": []
          }
        }
      ]
    },
    {
      "cell_type": "markdown",
      "metadata": {
        "id": "WPrg3dRkdznT"
      },
      "source": [
        "Check for corelation in the features using Pearson's Correlation"
      ]
    },
    {
      "cell_type": "code",
      "metadata": {
        "id": "v6GQ1rl-dy7f"
      },
      "source": [
        "corr_matrix=prices.corr(method='pearson')"
      ],
      "execution_count": 11,
      "outputs": []
    },
    {
      "cell_type": "code",
      "metadata": {
        "id": "GEX2_pPTYMhG",
        "outputId": "e60d3e5d-f497-41c8-9590-d324da05f768",
        "colab": {
          "base_uri": "https://localhost:8080/",
          "height": 392
        }
      },
      "source": [
        "#plotting the coorelation matrix for visualization\n",
        "sns.heatmap(corr_matrix)\n",
        "print(\"No strong Correlation between the numeric features\")"
      ],
      "execution_count": 12,
      "outputs": [
        {
          "output_type": "stream",
          "text": [
            "No strong Correlation between the numeric features\n"
          ],
          "name": "stdout"
        },
        {
          "output_type": "display_data",
          "data": {
            "image/png": "[encoded data removed]",
            "text/plain": [
              "<Figure size 432x288 with 2 Axes>"
            ]
          },
          "metadata": {
            "tags": []
          }
        }
      ]
    },
    {
      "cell_type": "markdown",
      "metadata": {
        "id": "uFeqQmp4ewFw"
      },
      "source": [
        "**Imputing the Missing values**"
      ]
    },
    {
      "cell_type": "code",
      "metadata": {
        "id": "CTIaxeA8eW32"
      },
      "source": [
        "from sklearn.impute import SimpleImputer\n",
        "imputer=SimpleImputer(strategy='most_frequent',missing_values=np.NaN)\n",
        "prices['drive_unit']=imputer.fit_transform(prices['drive_unit'].values.reshape(-1,1))"
      ],
      "execution_count": 13,
      "outputs": []
    },
    {
      "cell_type": "code",
      "metadata": {
        "id": "WeEqgX9rednV",
        "outputId": "776aae7f-d3c9-40b7-aa34-28d33f735f99",
        "colab": {
          "base_uri": "https://localhost:8080/"
        }
      },
      "source": [
        "prices.isnull().sum(axis=0)"
      ],
      "execution_count": 14,
      "outputs": [
        {
          "output_type": "execute_result",
          "data": {
            "text/plain": [
              "Unnamed: 0                0\n",
              "make                      0\n",
              "model                     0\n",
              "priceUSD                  0\n",
              "year                      0\n",
              "condition                 0\n",
              "mileage(kilometers)       0\n",
              "fuel_type                 0\n",
              "volume(cm3)              30\n",
              "color                     0\n",
              "transmission              0\n",
              "drive_unit                0\n",
              "segment                3755\n",
              "dtype: int64"
            ]
          },
          "metadata": {
            "tags": []
          },
          "execution_count": 14
        }
      ]
    },
    {
      "cell_type": "code",
      "metadata": {
        "id": "ACpTh2RKjrX6",
        "outputId": "cebe16fc-0cec-4388-809c-107ef683d8da",
        "colab": {
          "base_uri": "https://localhost:8080/"
        }
      },
      "source": [
        "prices['drive_unit'].value_counts(dropna=False)"
      ],
      "execution_count": 15,
      "outputs": [
        {
          "output_type": "execute_result",
          "data": {
            "text/plain": [
              "front-wheel drive             28419\n",
              "rear drive                     4809\n",
              "all-wheel drive                4176\n",
              "part-time four-wheel drive     2596\n",
              "Name: drive_unit, dtype: int64"
            ]
          },
          "metadata": {
            "tags": []
          },
          "execution_count": 15
        }
      ]
    },
    {
      "cell_type": "code",
      "metadata": {
        "id": "2TqQ1QBvzjTU"
      },
      "source": [
        "vol_imputer=SimpleImputer(missing_values=np.nan, strategy='mean')\n",
        "prices['volume(cm3)']=vol_imputer.fit_transform(prices['volume(cm3)'].values.reshape(-1,1))"
      ],
      "execution_count": 16,
      "outputs": []
    },
    {
      "cell_type": "markdown",
      "metadata": {
        "id": "69fx5FU3z7RV"
      },
      "source": [
        "Classifier model for imputation"
      ]
    },
    {
      "cell_type": "code",
      "metadata": {
        "id": "sY9oLhTznuIA",
        "outputId": "646c3408-6188-493b-c229-45a4a37334d3",
        "colab": {
          "base_uri": "https://localhost:8080/"
        }
      },
      "source": [
        "#for imputing values in segment we will crate a classifier model using randomforestclassifier\n",
        "prices['segment'].value_counts(dropna=False)"
      ],
      "execution_count": 19,
      "outputs": [
        {
          "output_type": "execute_result",
          "data": {
            "text/plain": [
              "D      8985\n",
              "C      7509\n",
              "J      6161\n",
              "M      4532\n",
              "E      4391\n",
              "NaN    3755\n",
              "B      3128\n",
              "F       658\n",
              "S       549\n",
              "A       332\n",
              "Name: segment, dtype: int64"
            ]
          },
          "metadata": {
            "tags": []
          },
          "execution_count": 19
        }
      ]
    },
    {
      "cell_type": "code",
      "metadata": {
        "id": "G0KccTC50nKq"
      },
      "source": [
        "#iterating through the dataframe to collect the indices of all NaN rows\n",
        "nan_rows=[]\n",
        "for index,rows in prices.iterrows():\n",
        "    is_nan_data=rows.isnull()\n",
        "    if is_nan_data.any():\n",
        "        nan_rows.append(index)\n"
      ],
      "execution_count": 39,
      "outputs": []
    },
    {
      "cell_type": "code",
      "metadata": {
        "id": "jexJJZfgDInI",
        "outputId": "d763983b-055d-4223-96ee-85cdc9c73049",
        "colab": {
          "base_uri": "https://localhost:8080/",
          "height": 206
        }
      },
      "source": [
        "#getting the test set with NaN segment columns\n",
        "test_set=prices.loc[nan_rows,:]\n",
        "test_set.head()"
      ],
      "execution_count": 41,
      "outputs": [
        {
          "output_type": "execute_result",
          "data": {
            "text/html": [
              "<div>\n",
              "<style scoped>\n",
              "    .dataframe tbody tr th:only-of-type {\n",
              "        vertical-align: middle;\n",
              "    }\n",
              "\n",
              "    .dataframe tbody tr th {\n",
              "        vertical-align: top;\n",
              "    }\n",
              "\n",
              "    .dataframe thead th {\n",
              "        text-align: right;\n",
              "    }\n",
              "</style>\n",
              "<table border=\"1\" class=\"dataframe\">\n",
              "  <thead>\n",
              "    <tr style=\"text-align: right;\">\n",
              "      <th></th>\n",
              "      <th>Unnamed: 0</th>\n",
              "      <th>make</th>\n",
              "      <th>model</th>\n",
              "      <th>priceUSD</th>\n",
              "      <th>year</th>\n",
              "      <th>condition</th>\n",
              "      <th>mileage(kilometers)</th>\n",
              "      <th>fuel_type</th>\n",
              "      <th>volume(cm3)</th>\n",
              "      <th>color</th>\n",
              "      <th>transmission</th>\n",
              "      <th>drive_unit</th>\n",
              "      <th>segment</th>\n",
              "    </tr>\n",
              "  </thead>\n",
              "  <tbody>\n",
              "    <tr>\n",
              "      <th>20</th>\n",
              "      <td>20</td>\n",
              "      <td>volkswagen</td>\n",
              "      <td>sharan</td>\n",
              "      <td>7500</td>\n",
              "      <td>2005</td>\n",
              "      <td>with mileage</td>\n",
              "      <td>350000.0</td>\n",
              "      <td>diesel</td>\n",
              "      <td>1900.0</td>\n",
              "      <td>other</td>\n",
              "      <td>mechanics</td>\n",
              "      <td>front-wheel drive</td>\n",
              "      <td>NaN</td>\n",
              "    </tr>\n",
              "    <tr>\n",
              "      <th>31</th>\n",
              "      <td>31</td>\n",
              "      <td>chevrolet</td>\n",
              "      <td>epica</td>\n",
              "      <td>7000</td>\n",
              "      <td>2012</td>\n",
              "      <td>with mileage</td>\n",
              "      <td>136000.0</td>\n",
              "      <td>petrol</td>\n",
              "      <td>2000.0</td>\n",
              "      <td>black</td>\n",
              "      <td>mechanics</td>\n",
              "      <td>front-wheel drive</td>\n",
              "      <td>NaN</td>\n",
              "    </tr>\n",
              "    <tr>\n",
              "      <th>34</th>\n",
              "      <td>34</td>\n",
              "      <td>jaguar</td>\n",
              "      <td>xj</td>\n",
              "      <td>19500</td>\n",
              "      <td>2011</td>\n",
              "      <td>with mileage</td>\n",
              "      <td>151420.0</td>\n",
              "      <td>petrol</td>\n",
              "      <td>5000.0</td>\n",
              "      <td>brown</td>\n",
              "      <td>auto</td>\n",
              "      <td>rear drive</td>\n",
              "      <td>NaN</td>\n",
              "    </tr>\n",
              "    <tr>\n",
              "      <th>47</th>\n",
              "      <td>47</td>\n",
              "      <td>toyota</td>\n",
              "      <td>previa</td>\n",
              "      <td>6500</td>\n",
              "      <td>2005</td>\n",
              "      <td>with mileage</td>\n",
              "      <td>266.0</td>\n",
              "      <td>diesel</td>\n",
              "      <td>2000.0</td>\n",
              "      <td>silver</td>\n",
              "      <td>mechanics</td>\n",
              "      <td>front-wheel drive</td>\n",
              "      <td>NaN</td>\n",
              "    </tr>\n",
              "    <tr>\n",
              "      <th>50</th>\n",
              "      <td>50</td>\n",
              "      <td>suzuki</td>\n",
              "      <td>swift</td>\n",
              "      <td>400</td>\n",
              "      <td>1995</td>\n",
              "      <td>with mileage</td>\n",
              "      <td>195928.0</td>\n",
              "      <td>petrol</td>\n",
              "      <td>1600.0</td>\n",
              "      <td>blue</td>\n",
              "      <td>mechanics</td>\n",
              "      <td>front-wheel drive</td>\n",
              "      <td>NaN</td>\n",
              "    </tr>\n",
              "  </tbody>\n",
              "</table>\n",
              "</div>"
            ],
            "text/plain": [
              "    Unnamed: 0        make   model  ...  transmission         drive_unit segment\n",
              "20          20  volkswagen  sharan  ...     mechanics  front-wheel drive     NaN\n",
              "31          31   chevrolet   epica  ...     mechanics  front-wheel drive     NaN\n",
              "34          34      jaguar      xj  ...          auto         rear drive     NaN\n",
              "47          47      toyota  previa  ...     mechanics  front-wheel drive     NaN\n",
              "50          50      suzuki   swift  ...     mechanics  front-wheel drive     NaN\n",
              "\n",
              "[5 rows x 13 columns]"
            ]
          },
          "metadata": {
            "tags": []
          },
          "execution_count": 41
        }
      ]
    },
    {
      "cell_type": "code",
      "metadata": {
        "id": "YPC5hcTfDeVI",
        "outputId": "e553125f-7715-4f77-d6ec-6876e3ed0bce",
        "colab": {
          "base_uri": "https://localhost:8080/",
          "height": 206
        }
      },
      "source": [
        "#creating the training set\n",
        "train_set=prices.drop(index=nan_rows)\n",
        "train_set.head()"
      ],
      "execution_count": 48,
      "outputs": [
        {
          "output_type": "execute_result",
          "data": {
            "text/html": [
              "<div>\n",
              "<style scoped>\n",
              "    .dataframe tbody tr th:only-of-type {\n",
              "        vertical-align: middle;\n",
              "    }\n",
              "\n",
              "    .dataframe tbody tr th {\n",
              "        vertical-align: top;\n",
              "    }\n",
              "\n",
              "    .dataframe thead th {\n",
              "        text-align: right;\n",
              "    }\n",
              "</style>\n",
              "<table border=\"1\" class=\"dataframe\">\n",
              "  <thead>\n",
              "    <tr style=\"text-align: right;\">\n",
              "      <th></th>\n",
              "      <th>Unnamed: 0</th>\n",
              "      <th>make</th>\n",
              "      <th>model</th>\n",
              "      <th>priceUSD</th>\n",
              "      <th>year</th>\n",
              "      <th>condition</th>\n",
              "      <th>mileage(kilometers)</th>\n",
              "      <th>fuel_type</th>\n",
              "      <th>volume(cm3)</th>\n",
              "      <th>color</th>\n",
              "      <th>transmission</th>\n",
              "      <th>drive_unit</th>\n",
              "      <th>segment</th>\n",
              "    </tr>\n",
              "  </thead>\n",
              "  <tbody>\n",
              "    <tr>\n",
              "      <th>0</th>\n",
              "      <td>0</td>\n",
              "      <td>honda</td>\n",
              "      <td>accord</td>\n",
              "      <td>565</td>\n",
              "      <td>1993</td>\n",
              "      <td>with mileage</td>\n",
              "      <td>960015.0</td>\n",
              "      <td>petrol</td>\n",
              "      <td>2000.0</td>\n",
              "      <td>black</td>\n",
              "      <td>mechanics</td>\n",
              "      <td>front-wheel drive</td>\n",
              "      <td>D</td>\n",
              "    </tr>\n",
              "    <tr>\n",
              "      <th>1</th>\n",
              "      <td>1</td>\n",
              "      <td>ford</td>\n",
              "      <td>fusion</td>\n",
              "      <td>5550</td>\n",
              "      <td>2008</td>\n",
              "      <td>with mileage</td>\n",
              "      <td>172000.0</td>\n",
              "      <td>diesel</td>\n",
              "      <td>1400.0</td>\n",
              "      <td>silver</td>\n",
              "      <td>mechanics</td>\n",
              "      <td>front-wheel drive</td>\n",
              "      <td>M</td>\n",
              "    </tr>\n",
              "    <tr>\n",
              "      <th>2</th>\n",
              "      <td>2</td>\n",
              "      <td>nissan</td>\n",
              "      <td>teana</td>\n",
              "      <td>8300</td>\n",
              "      <td>2008</td>\n",
              "      <td>with mileage</td>\n",
              "      <td>223000.0</td>\n",
              "      <td>petrol</td>\n",
              "      <td>2500.0</td>\n",
              "      <td>purple</td>\n",
              "      <td>auto</td>\n",
              "      <td>front-wheel drive</td>\n",
              "      <td>D</td>\n",
              "    </tr>\n",
              "    <tr>\n",
              "      <th>3</th>\n",
              "      <td>3</td>\n",
              "      <td>volkswagen</td>\n",
              "      <td>fox</td>\n",
              "      <td>3300</td>\n",
              "      <td>2005</td>\n",
              "      <td>with mileage</td>\n",
              "      <td>140000.0</td>\n",
              "      <td>petrol</td>\n",
              "      <td>1200.0</td>\n",
              "      <td>blue</td>\n",
              "      <td>mechanics</td>\n",
              "      <td>front-wheel drive</td>\n",
              "      <td>A</td>\n",
              "    </tr>\n",
              "    <tr>\n",
              "      <th>4</th>\n",
              "      <td>4</td>\n",
              "      <td>nissan</td>\n",
              "      <td>primera</td>\n",
              "      <td>2450</td>\n",
              "      <td>2002</td>\n",
              "      <td>with damage</td>\n",
              "      <td>413000.0</td>\n",
              "      <td>diesel</td>\n",
              "      <td>2200.0</td>\n",
              "      <td>burgundy</td>\n",
              "      <td>mechanics</td>\n",
              "      <td>front-wheel drive</td>\n",
              "      <td>D</td>\n",
              "    </tr>\n",
              "  </tbody>\n",
              "</table>\n",
              "</div>"
            ],
            "text/plain": [
              "   Unnamed: 0        make    model  ...  transmission         drive_unit segment\n",
              "0           0       honda   accord  ...     mechanics  front-wheel drive       D\n",
              "1           1        ford   fusion  ...     mechanics  front-wheel drive       M\n",
              "2           2      nissan    teana  ...          auto  front-wheel drive       D\n",
              "3           3  volkswagen      fox  ...     mechanics  front-wheel drive       A\n",
              "4           4      nissan  primera  ...     mechanics  front-wheel drive       D\n",
              "\n",
              "[5 rows x 13 columns]"
            ]
          },
          "metadata": {
            "tags": []
          },
          "execution_count": 48
        }
      ]
    },
    {
      "cell_type": "code",
      "metadata": {
        "id": "a6xAIgkoQ4yD"
      },
      "source": [
        "train_set[train_set.make=='ford']['model'].value_counts()"
      ],
      "execution_count": null,
      "outputs": []
    },
    {
      "cell_type": "code",
      "metadata": {
        "id": "p8mg1LgNXUs6"
      },
      "source": [
        "test_set[test_set.make=='ford']['model'].value_counts()"
      ],
      "execution_count": null,
      "outputs": []
    },
    {
      "cell_type": "code",
      "metadata": {
        "id": "JcORGrjFXdJ2"
      },
      "source": [
        ""
      ],
      "execution_count": null,
      "outputs": []
    }
  ]
}